{
 "cells": [
  {
   "cell_type": "code",
   "execution_count": 1,
   "id": "1e42d289",
   "metadata": {},
   "outputs": [
    {
     "name": "stdout",
     "output_type": "stream",
     "text": [
      "Mercy\n",
      "Crestable\n",
      "Grace\n",
      "Pearl\n"
     ]
    }
   ],
   "source": [
    "# Print all elements of a list using a loop\n",
    "my_daughters = [\"Mercy\", \"Crestable\", \"Grace\", \"Pearl\"]\n",
    "for daughter in my_daughters:\n",
    "    print(daughter)"
   ]
  },
  {
   "cell_type": "code",
   "execution_count": 1,
   "id": "9a3cff7c",
   "metadata": {},
   "outputs": [
    {
     "name": "stdout",
     "output_type": "stream",
     "text": [
      "Employee enters the year of service: 7\n",
      "Employee enters the salary: 5000000\n",
      "250000.0\n"
     ]
    }
   ],
   "source": [
    "# A company decided to give bonus of 5% to employee if his/her year of service is more than 5 years. Ask user for their salary and year of service and print the net bonus amount \n",
    "year_of_service = int(input(\"Employee enters the year of service: \"))\n",
    "salary = float(input(\"Employee enters the salary: \"))\n",
    "if year_of_service > 5:\n",
    "    net_bonus = salary * 0.05\n",
    "    print(net_bonus)\n",
    "else:\n",
    "    print(\"Work harder dear\")"
   ]
  },
  {
   "cell_type": "code",
   "execution_count": 6,
   "id": "56012272",
   "metadata": {},
   "outputs": [
    {
     "name": "stdout",
     "output_type": "stream",
     "text": [
      "Enter age1: 24\n",
      "Enter age2: 30\n",
      "Enter age3: 56\n",
      "age3 is oldest\n",
      "age1 is youngest\n"
     ]
    }
   ],
   "source": [
    "# Take input of age of 3 people by user and determine oldest and youngest among them\n",
    "age1 = int(input(\"Enter age1: \"))\n",
    "age2 = int(input(\"Enter age2: \"))\n",
    "age3 = int(input(\"Enter age3: \"))\n",
    "if age1>age2 and age1>age3:\n",
    "    print(\"age1 is oldest\")\n",
    "elif age2>age1 and age2>age3:\n",
    "    print(\"age2 is oldest\")\n",
    "else:\n",
    "    print(\"age3 is oldest\")\n",
    "if age1<age2 and age1<age3:\n",
    "    print(\"age1 is youngest\")\n",
    "elif age2<age1 and age2<age3:\n",
    "    print(\"age2 is youngest\")\n",
    "else:\n",
    "    print(\"age3 is youngest\")\n",
    "\n"
   ]
  },
  {
   "cell_type": "code",
   "execution_count": 7,
   "id": "43a4ef25",
   "metadata": {},
   "outputs": [
    {
     "name": "stdout",
     "output_type": "stream",
     "text": [
      "Enter marks: 97\n",
      "Grade A\n"
     ]
    }
   ],
   "source": [
    "# Grading marks of a student\n",
    "marks = int(input(\"Enter marks: \"))\n",
    "if marks < 25:\n",
    "    print(\"Grade F\")\n",
    "elif 25 < marks <= 45:\n",
    "    print(\"Grade E\")\n",
    "elif 45 < marks <= 50:\n",
    "    print(\"Grade D\")\n",
    "elif 50 < marks <= 60:\n",
    "    print(\"Grade C\")\n",
    "elif 60 < marks <= 80:\n",
    "    print(\"Grade B\")\n",
    "elif marks >= 80:\n",
    "    print(\"Grade A\")\n",
    "\n",
    "        "
   ]
  },
  {
   "cell_type": "code",
   "execution_count": 3,
   "id": "b228029c",
   "metadata": {},
   "outputs": [
    {
     "name": "stdout",
     "output_type": "stream",
     "text": [
      "{'Lucy': 1, 'Arinda': 2, 'Cynthia': 3, 'Precious': 4, 'Mercy': 1, 'Crestable': 2, 'Grace': 3, 'Pearl': 4}\n"
     ]
    }
   ],
   "source": [
    "# Write a python script to merge to python dictionaries\n",
    "mum = {'Mercy':1, 'Crestable':2, 'Grace':3, 'Pearl':4}\n",
    "uncle= {'Lucy':1, 'Arinda':2, 'Cynthia':3, 'Precious':4}\n",
    "total = uncle.copy()\n",
    "total.update(mum)\n",
    "print(total)\n"
   ]
  },
  {
   "cell_type": "code",
   "execution_count": 2,
   "id": "ed25e377",
   "metadata": {},
   "outputs": [
    {
     "name": "stdout",
     "output_type": "stream",
     "text": [
      "4\n"
     ]
    }
   ],
   "source": [
    "# Write a python program to get the largest number from a list\n",
    "def max_num_in_list (list):\n",
    "    max = list[0]\n",
    "    for a in list:\n",
    "        if a > max:\n",
    "            max = a\n",
    "    return max\n",
    "print(max_num_in_list([4,2,-4,0]))"
   ]
  },
  {
   "cell_type": "code",
   "execution_count": 4,
   "id": "802e5872",
   "metadata": {},
   "outputs": [
    {
     "name": "stdout",
     "output_type": "stream",
     "text": [
      "{'a': 100, 'b': 200, 'c': 300}\n",
      "{'b': 200, 'c': 300}\n"
     ]
    }
   ],
   "source": [
    "# Write a python program to remove a key from a dictionary\n",
    "mydict = {'a':100, 'b':200, 'c':300}\n",
    "print(mydict)\n",
    "if 'a' in mydict:\n",
    "    del mydict['a']\n",
    "print(mydict)\n"
   ]
  },
  {
   "cell_type": "code",
   "execution_count": null,
   "id": "d2aadd4b",
   "metadata": {},
   "outputs": [],
   "source": []
  }
 ],
 "metadata": {
  "kernelspec": {
   "display_name": "Python 3 (ipykernel)",
   "language": "python",
   "name": "python3"
  },
  "language_info": {
   "codemirror_mode": {
    "name": "ipython",
    "version": 3
   },
   "file_extension": ".py",
   "mimetype": "text/x-python",
   "name": "python",
   "nbconvert_exporter": "python",
   "pygments_lexer": "ipython3",
   "version": "3.9.12"
  }
 },
 "nbformat": 4,
 "nbformat_minor": 5
}
