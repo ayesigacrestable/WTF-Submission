{
 "cells": [
  {
   "cell_type": "code",
   "execution_count": 1,
   "id": "c4bb4b63",
   "metadata": {},
   "outputs": [],
   "source": [
    "import numpy as np"
   ]
  },
  {
   "cell_type": "code",
   "execution_count": 3,
   "id": "106323a2",
   "metadata": {},
   "outputs": [
    {
     "data": {
      "text/plain": [
       "array([ 1,  3,  5,  7,  9, 11, 13, 15, 17, 19, 21, 23, 25, 27, 29, 31, 33,\n",
       "       35, 37, 39, 41, 43, 45, 47, 49])"
      ]
     },
     "execution_count": 3,
     "metadata": {},
     "output_type": "execute_result"
    }
   ],
   "source": [
    "# This method returns evenly spaced values within an interval. Values are generated within the half open interval. \n",
    "# The start value is inclusive and the stop one is exclusive. \n",
    "# The format is np.arange(start,stop,step). Where the step value is not included, python uses a step of one.\n",
    "# The data type could also be given but when not given python uses one like the data given.\n",
    "np.arange(1,50,2)"
   ]
  },
  {
   "cell_type": "code",
   "execution_count": 10,
   "id": "9fecafc4",
   "metadata": {},
   "outputs": [
    {
     "data": {
      "text/plain": [
       "array([ 1.        ,  6.44444444, 11.88888889, 17.33333333, 22.77777778,\n",
       "       28.22222222, 33.66666667, 39.11111111, 44.55555556, 50.        ])"
      ]
     },
     "execution_count": 10,
     "metadata": {},
     "output_type": "execute_result"
    }
   ],
   "source": [
    "# This Return evenly spaced numbers over a specified interval.\n",
    "# Returns `num` evenly spaced samples, calculated over the interval [`start`, `stop`].\n",
    "#The endpoint of the interval can optionally be excluded.\n",
    "np.linspace(1,50,10) #The 10 in this the number of values outputted."
   ]
  },
  {
   "cell_type": "code",
   "execution_count": 12,
   "id": "e5e0c703",
   "metadata": {},
   "outputs": [
    {
     "name": "stdout",
     "output_type": "stream",
     "text": [
      "add(x1, x2, /, out=None, *, where=True, casting='same_kind', order='K', dtype=None, subok=True[, signature, extobj])\n",
      "\n",
      "Add arguments element-wise.\n",
      "\n",
      "Parameters\n",
      "----------\n",
      "x1, x2 : array_like\n",
      "    The arrays to be added.\n",
      "    If ``x1.shape != x2.shape``, they must be broadcastable to a common\n",
      "    shape (which becomes the shape of the output).\n",
      "out : ndarray, None, or tuple of ndarray and None, optional\n",
      "    A location into which the result is stored. If provided, it must have\n",
      "    a shape that the inputs broadcast to. If not provided or None,\n",
      "    a freshly-allocated array is returned. A tuple (possible only as a\n",
      "    keyword argument) must have length equal to the number of outputs.\n",
      "where : array_like, optional\n",
      "    This condition is broadcast over the input. At locations where the\n",
      "    condition is True, the `out` array will be set to the ufunc result.\n",
      "    Elsewhere, the `out` array will retain its original value.\n",
      "    Note that if an uninitialized `out` array is created via the default\n",
      "    ``out=None``, locations within it where the condition is False will\n",
      "    remain uninitialized.\n",
      "**kwargs\n",
      "    For other keyword-only arguments, see the\n",
      "    :ref:`ufunc docs <ufuncs.kwargs>`.\n",
      "\n",
      "Returns\n",
      "-------\n",
      "add : ndarray or scalar\n",
      "    The sum of `x1` and `x2`, element-wise.\n",
      "    This is a scalar if both `x1` and `x2` are scalars.\n",
      "\n",
      "Notes\n",
      "-----\n",
      "Equivalent to `x1` + `x2` in terms of array broadcasting.\n",
      "\n",
      "Examples\n",
      "--------\n",
      ">>> np.add(1.0, 4.0)\n",
      "5.0\n",
      ">>> x1 = np.arange(9.0).reshape((3, 3))\n",
      ">>> x2 = np.arange(3.0)\n",
      ">>> np.add(x1, x2)\n",
      "array([[  0.,   2.,   4.],\n",
      "       [  3.,   5.,   7.],\n",
      "       [  6.,   8.,  10.]])\n",
      "\n",
      "The ``+`` operator can be used as a shorthand for ``np.add`` on ndarrays.\n",
      "\n",
      ">>> x1 = np.arange(9.0).reshape((3, 3))\n",
      ">>> x2 = np.arange(3.0)\n",
      ">>> x1 + x2\n",
      "array([[ 0.,  2.,  4.],\n",
      "       [ 3.,  5.,  7.],\n",
      "       [ 6.,  8., 10.]])\n"
     ]
    }
   ],
   "source": [
    "# The info method is used to get information for a function, class or module\n",
    "np.info(np.add)"
   ]
  },
  {
   "cell_type": "code",
   "execution_count": 13,
   "id": "e4af9e96",
   "metadata": {},
   "outputs": [
    {
     "data": {
      "text/plain": [
       "12"
      ]
     },
     "execution_count": 13,
     "metadata": {},
     "output_type": "execute_result"
    }
   ],
   "source": [
    "# np.add adds values element-wise.\n",
    "np.add(4,8)"
   ]
  },
  {
   "cell_type": "code",
   "execution_count": 20,
   "id": "76a65c32",
   "metadata": {},
   "outputs": [
    {
     "data": {
      "text/plain": [
       "array([ 2,  3,  4,  5,  6,  7,  8,  9, 10, 11, 12, 13, 14, 15, 16, 17, 18,\n",
       "       19, 20, 21, 22, 23, 24])"
      ]
     },
     "execution_count": 20,
     "metadata": {},
     "output_type": "execute_result"
    }
   ],
   "source": [
    "# np.absolute method calculates the absolute value element-wise\n",
    "x = np.arange(2,25)\n",
    "x\n",
    "np.abs(x)"
   ]
  },
  {
   "cell_type": "code",
   "execution_count": 21,
   "id": "af7305b3",
   "metadata": {},
   "outputs": [
    {
     "data": {
      "text/plain": [
       "24"
      ]
     },
     "execution_count": 21,
     "metadata": {},
     "output_type": "execute_result"
    }
   ],
   "source": [
    "#np.max gets the largest number from given values\n",
    "np.max(x)"
   ]
  },
  {
   "cell_type": "code",
   "execution_count": 23,
   "id": "2e476052",
   "metadata": {},
   "outputs": [
    {
     "data": {
      "text/plain": [
       "2"
      ]
     },
     "execution_count": 23,
     "metadata": {},
     "output_type": "execute_result"
    }
   ],
   "source": [
    "# np.max gets the smallest number from given values.\n",
    "np.min(x)"
   ]
  },
  {
   "cell_type": "code",
   "execution_count": 25,
   "id": "7ae8bb79",
   "metadata": {},
   "outputs": [
    {
     "data": {
      "text/plain": [
       "13.0"
      ]
     },
     "execution_count": 25,
     "metadata": {},
     "output_type": "execute_result"
    }
   ],
   "source": [
    "# compute the  weighted average along the specified axis\n",
    "np.average(x)"
   ]
  },
  {
   "cell_type": "code",
   "execution_count": 26,
   "id": "bd63c8e9",
   "metadata": {},
   "outputs": [
    {
     "data": {
      "text/plain": [
       "5.0"
      ]
     },
     "execution_count": 26,
     "metadata": {},
     "output_type": "execute_result"
    }
   ],
   "source": [
    "# returns a true division of inputs, element-wise.\n",
    "np.divide(10,2)"
   ]
  },
  {
   "cell_type": "code",
   "execution_count": 27,
   "id": "4797e360",
   "metadata": {},
   "outputs": [
    {
     "data": {
      "text/plain": [
       "array([ 1., 50.])"
      ]
     },
     "execution_count": 27,
     "metadata": {},
     "output_type": "execute_result"
    }
   ],
   "source": [
    "# Return a new array of given shape and type, without initializing entries.\n",
    "np.empty(2)"
   ]
  },
  {
   "cell_type": "code",
   "execution_count": 28,
   "id": "f9cad251",
   "metadata": {},
   "outputs": [
    {
     "data": {
      "text/plain": [
       "array([10, 15, 20, 50, 67])"
      ]
     },
     "execution_count": 28,
     "metadata": {},
     "output_type": "execute_result"
    }
   ],
   "source": [
    "# np.sort returns a sorted copy of an array\n",
    "arr = np.array([20, 10, 50, 15, 67])\n",
    "np.sort(arr)"
   ]
  },
  {
   "cell_type": "code",
   "execution_count": 33,
   "id": "87d2e023",
   "metadata": {},
   "outputs": [
    {
     "data": {
      "text/plain": [
       "(array([0, 1], dtype=int64), array([2, 0], dtype=int64))"
      ]
     },
     "execution_count": 33,
     "metadata": {},
     "output_type": "execute_result"
    }
   ],
   "source": [
    "# np.zero returns the indices of the elements that are non-zero.\n",
    "x = np.array([[1,9,0], [0,39,89]])\n",
    "np.nonzero(x < 1)"
   ]
  },
  {
   "cell_type": "code",
   "execution_count": 34,
   "id": "6ed70e02",
   "metadata": {},
   "outputs": [],
   "source": [
    "a1 = np.array([[2,3], [4,5]])\n",
    "a2 = np.array([[7,8], [9,6]])"
   ]
  },
  {
   "cell_type": "code",
   "execution_count": 35,
   "id": "86585110",
   "metadata": {},
   "outputs": [
    {
     "data": {
      "text/plain": [
       "array([[2, 3],\n",
       "       [4, 5],\n",
       "       [7, 8],\n",
       "       [9, 6]])"
      ]
     },
     "execution_count": 35,
     "metadata": {},
     "output_type": "execute_result"
    }
   ],
   "source": [
    "# np.vstack stacks arrays in sequence vertically (row wise).\n",
    "np.vstack((a1, a2))"
   ]
  },
  {
   "cell_type": "code",
   "execution_count": 36,
   "id": "32566e05",
   "metadata": {},
   "outputs": [
    {
     "data": {
      "text/plain": [
       "array([[2, 3, 7, 8],\n",
       "       [4, 5, 9, 6]])"
      ]
     },
     "execution_count": 36,
     "metadata": {},
     "output_type": "execute_result"
    }
   ],
   "source": [
    "# np.hstack stacks arrays in sequence horizontally (column wise).\n",
    "np.hstack((a1, a2))"
   ]
  },
  {
   "cell_type": "code",
   "execution_count": 40,
   "id": "3a9427ea",
   "metadata": {},
   "outputs": [
    {
     "data": {
      "text/plain": [
       "[array([2, 3, 4, 5, 6, 7]),\n",
       " array([ 8,  9, 10, 11, 12, 13]),\n",
       " array([14, 15, 16, 17, 18, 19])]"
      ]
     },
     "execution_count": 40,
     "metadata": {},
     "output_type": "execute_result"
    }
   ],
   "source": [
    "# np.hsplit splits an array into multiple sub-arrays horizontally (column-wise).\n",
    "x = np.arange(2,20)\n",
    "x\n",
    "np.hsplit(x,3)"
   ]
  },
  {
   "cell_type": "code",
   "execution_count": 41,
   "id": "b67cb4ac",
   "metadata": {},
   "outputs": [
    {
     "data": {
      "text/plain": [
       "20"
      ]
     },
     "execution_count": 41,
     "metadata": {},
     "output_type": "execute_result"
    }
   ],
   "source": [
    "# np.sum  returns a sum of array elements over a given axis.\n",
    "age = np.array([1,2,3,6,8])\n",
    "np.sum(age)"
   ]
  },
  {
   "cell_type": "code",
   "execution_count": 44,
   "id": "328461c4",
   "metadata": {},
   "outputs": [
    {
     "data": {
      "text/plain": [
       "array([[[ 0,  1,  2],\n",
       "        [ 3,  4,  5],\n",
       "        [ 6,  7,  8],\n",
       "        [ 9, 10, 11],\n",
       "        [12, 13, 14]],\n",
       "\n",
       "       [[15, 16, 17],\n",
       "        [18, 19, 20],\n",
       "        [21, 22, 23],\n",
       "        [24, 25, 26],\n",
       "        [27, 28, 29]]])"
      ]
     },
     "execution_count": 44,
     "metadata": {},
     "output_type": "execute_result"
    }
   ],
   "source": [
    "# reshape method returns an array containing the same data with a new shape.\n",
    "a = np.arange(30)\n",
    "b = a.reshape((2, -1, 3))\n",
    "b"
   ]
  },
  {
   "cell_type": "code",
   "execution_count": 45,
   "id": "b16a4755",
   "metadata": {},
   "outputs": [
    {
     "data": {
      "text/plain": [
       "array([1, 3, 4, 5, 9, 8, 7, 6])"
      ]
     },
     "execution_count": 45,
     "metadata": {},
     "output_type": "execute_result"
    }
   ],
   "source": [
    "# Join a sequence of arrays along an existing axis.\n",
    "a = np.array([1,3,4,5])\n",
    "b = np.array([9,8,7,6])\n",
    "np.concatenate((a,b))"
   ]
  },
  {
   "cell_type": "code",
   "execution_count": 47,
   "id": "a86079c9",
   "metadata": {},
   "outputs": [
    {
     "name": "stdout",
     "output_type": "stream",
     "text": [
      "[1 3 4 5]\n"
     ]
    }
   ],
   "source": [
    "# Return a copy of the array.\n",
    "c = a.copy()\n",
    "print(c)"
   ]
  },
  {
   "cell_type": "code",
   "execution_count": 48,
   "id": "6639d35e",
   "metadata": {},
   "outputs": [
    {
     "data": {
      "text/plain": [
       "array([1, 2, 3, 4, 5, 6, 7, 8])"
      ]
     },
     "execution_count": 48,
     "metadata": {},
     "output_type": "execute_result"
    }
   ],
   "source": [
    "# Return a copy of the array collapsed into one dimension.\n",
    "a = np.array([[1,2,3,4], [5,6,7,8]])\n",
    "a.flatten()"
   ]
  },
  {
   "cell_type": "code",
   "execution_count": 1,
   "id": "a5a0c4cd",
   "metadata": {},
   "outputs": [],
   "source": [
    "import numpy as np\n",
    "import pandas as pd"
   ]
  },
  {
   "cell_type": "code",
   "execution_count": 2,
   "id": "7941e5c1",
   "metadata": {},
   "outputs": [],
   "source": [
    "labels = [\"a\",\"b\",\"c\"]\n",
    "my_list = [10,20,30]\n",
    "arr = np.array([10,20,30])\n",
    "d = {\"a\":10, \"b\":20, \"c\":30}"
   ]
  },
  {
   "cell_type": "code",
   "execution_count": 3,
   "id": "03096c9a",
   "metadata": {},
   "outputs": [
    {
     "data": {
      "text/plain": [
       "0    10\n",
       "1    20\n",
       "2    30\n",
       "dtype: int64"
      ]
     },
     "execution_count": 3,
     "metadata": {},
     "output_type": "execute_result"
    }
   ],
   "source": [
    "# Creating a series\n",
    "pd.Series(data = my_list)"
   ]
  },
  {
   "cell_type": "code",
   "execution_count": 6,
   "id": "6b596fe4",
   "metadata": {},
   "outputs": [
    {
     "data": {
      "text/html": [
       "<div>\n",
       "<style scoped>\n",
       "    .dataframe tbody tr th:only-of-type {\n",
       "        vertical-align: middle;\n",
       "    }\n",
       "\n",
       "    .dataframe tbody tr th {\n",
       "        vertical-align: top;\n",
       "    }\n",
       "\n",
       "    .dataframe thead th {\n",
       "        text-align: right;\n",
       "    }\n",
       "</style>\n",
       "<table border=\"1\" class=\"dataframe\">\n",
       "  <thead>\n",
       "    <tr style=\"text-align: right;\">\n",
       "      <th></th>\n",
       "      <th>Name</th>\n",
       "      <th>Age</th>\n",
       "      <th>Salary</th>\n",
       "    </tr>\n",
       "  </thead>\n",
       "  <tbody>\n",
       "    <tr>\n",
       "      <th>0</th>\n",
       "      <td>Hilda</td>\n",
       "      <td>22</td>\n",
       "      <td>10000</td>\n",
       "    </tr>\n",
       "    <tr>\n",
       "      <th>1</th>\n",
       "      <td>Patience</td>\n",
       "      <td>23</td>\n",
       "      <td>20000</td>\n",
       "    </tr>\n",
       "    <tr>\n",
       "      <th>2</th>\n",
       "      <td>Flower</td>\n",
       "      <td>24</td>\n",
       "      <td>40000</td>\n",
       "    </tr>\n",
       "  </tbody>\n",
       "</table>\n",
       "</div>"
      ],
      "text/plain": [
       "       Name  Age  Salary\n",
       "0     Hilda   22   10000\n",
       "1  Patience   23   20000\n",
       "2    Flower   24   40000"
      ]
     },
     "execution_count": 6,
     "metadata": {},
     "output_type": "execute_result"
    }
   ],
   "source": [
    "# Creating a data frame\n",
    "employees = pd.DataFrame({\"Name\":[\"Hilda\", \"Patience\", \"Flower\"], \"Age\": [22,23,24], \"Salary\": [10000, 20000, 40000],})\n",
    "employees"
   ]
  },
  {
   "cell_type": "code",
   "execution_count": 7,
   "id": "ed2ff7d5",
   "metadata": {},
   "outputs": [
    {
     "data": {
      "text/plain": [
       "24"
      ]
     },
     "execution_count": 7,
     "metadata": {},
     "output_type": "execute_result"
    }
   ],
   "source": [
    "# Find the largest value\n",
    "employees[\"Age\"].max()"
   ]
  },
  {
   "cell_type": "code",
   "execution_count": 8,
   "id": "f1fc8275",
   "metadata": {},
   "outputs": [
    {
     "data": {
      "text/plain": [
       "10000"
      ]
     },
     "execution_count": 8,
     "metadata": {},
     "output_type": "execute_result"
    }
   ],
   "source": [
    "# Find the smallest value\n",
    "employees[\"Salary\"].min()"
   ]
  },
  {
   "cell_type": "code",
   "execution_count": 9,
   "id": "f3246979",
   "metadata": {},
   "outputs": [
    {
     "data": {
      "text/html": [
       "<div>\n",
       "<style scoped>\n",
       "    .dataframe tbody tr th:only-of-type {\n",
       "        vertical-align: middle;\n",
       "    }\n",
       "\n",
       "    .dataframe tbody tr th {\n",
       "        vertical-align: top;\n",
       "    }\n",
       "\n",
       "    .dataframe thead th {\n",
       "        text-align: right;\n",
       "    }\n",
       "</style>\n",
       "<table border=\"1\" class=\"dataframe\">\n",
       "  <thead>\n",
       "    <tr style=\"text-align: right;\">\n",
       "      <th></th>\n",
       "      <th>Age</th>\n",
       "      <th>Salary</th>\n",
       "    </tr>\n",
       "  </thead>\n",
       "  <tbody>\n",
       "    <tr>\n",
       "      <th>count</th>\n",
       "      <td>3.0</td>\n",
       "      <td>3.000000</td>\n",
       "    </tr>\n",
       "    <tr>\n",
       "      <th>mean</th>\n",
       "      <td>23.0</td>\n",
       "      <td>23333.333333</td>\n",
       "    </tr>\n",
       "    <tr>\n",
       "      <th>std</th>\n",
       "      <td>1.0</td>\n",
       "      <td>15275.252317</td>\n",
       "    </tr>\n",
       "    <tr>\n",
       "      <th>min</th>\n",
       "      <td>22.0</td>\n",
       "      <td>10000.000000</td>\n",
       "    </tr>\n",
       "    <tr>\n",
       "      <th>25%</th>\n",
       "      <td>22.5</td>\n",
       "      <td>15000.000000</td>\n",
       "    </tr>\n",
       "    <tr>\n",
       "      <th>50%</th>\n",
       "      <td>23.0</td>\n",
       "      <td>20000.000000</td>\n",
       "    </tr>\n",
       "    <tr>\n",
       "      <th>75%</th>\n",
       "      <td>23.5</td>\n",
       "      <td>30000.000000</td>\n",
       "    </tr>\n",
       "    <tr>\n",
       "      <th>max</th>\n",
       "      <td>24.0</td>\n",
       "      <td>40000.000000</td>\n",
       "    </tr>\n",
       "  </tbody>\n",
       "</table>\n",
       "</div>"
      ],
      "text/plain": [
       "        Age        Salary\n",
       "count   3.0      3.000000\n",
       "mean   23.0  23333.333333\n",
       "std     1.0  15275.252317\n",
       "min    22.0  10000.000000\n",
       "25%    22.5  15000.000000\n",
       "50%    23.0  20000.000000\n",
       "75%    23.5  30000.000000\n",
       "max    24.0  40000.000000"
      ]
     },
     "execution_count": 9,
     "metadata": {},
     "output_type": "execute_result"
    }
   ],
   "source": [
    "# Generate descriptive statistics.\n",
    "employees.describe()"
   ]
  },
  {
   "cell_type": "code",
   "execution_count": 11,
   "id": "f0d4423c",
   "metadata": {},
   "outputs": [
    {
     "data": {
      "text/plain": [
       "Name      object\n",
       "Age        int64\n",
       "Salary     int64\n",
       "dtype: object"
      ]
     },
     "execution_count": 11,
     "metadata": {},
     "output_type": "execute_result"
    }
   ],
   "source": [
    "# Return the dtypes in the DataFrame.\n",
    "employees.dtypes"
   ]
  },
  {
   "cell_type": "code",
   "execution_count": 34,
   "id": "f61c3ba2",
   "metadata": {},
   "outputs": [
    {
     "data": {
      "text/html": [
       "<div>\n",
       "<style scoped>\n",
       "    .dataframe tbody tr th:only-of-type {\n",
       "        vertical-align: middle;\n",
       "    }\n",
       "\n",
       "    .dataframe tbody tr th {\n",
       "        vertical-align: top;\n",
       "    }\n",
       "\n",
       "    .dataframe thead th {\n",
       "        text-align: right;\n",
       "    }\n",
       "</style>\n",
       "<table border=\"1\" class=\"dataframe\">\n",
       "  <thead>\n",
       "    <tr style=\"text-align: right;\">\n",
       "      <th></th>\n",
       "      <th>Name</th>\n",
       "      <th>Age</th>\n",
       "      <th>Salary</th>\n",
       "    </tr>\n",
       "  </thead>\n",
       "  <tbody>\n",
       "    <tr>\n",
       "      <th>0</th>\n",
       "      <td>Hilda</td>\n",
       "      <td>22</td>\n",
       "      <td>10000</td>\n",
       "    </tr>\n",
       "    <tr>\n",
       "      <th>1</th>\n",
       "      <td>Patience</td>\n",
       "      <td>23</td>\n",
       "      <td>20000</td>\n",
       "    </tr>\n",
       "  </tbody>\n",
       "</table>\n",
       "</div>"
      ],
      "text/plain": [
       "       Name  Age  Salary\n",
       "0     Hilda   22   10000\n",
       "1  Patience   23   20000"
      ]
     },
     "execution_count": 34,
     "metadata": {},
     "output_type": "execute_result"
    }
   ],
   "source": [
    "# Returns required number of rows\n",
    "employees.head(2)"
   ]
  },
  {
   "cell_type": "code",
   "execution_count": 13,
   "id": "1d542acb",
   "metadata": {},
   "outputs": [
    {
     "data": {
      "text/plain": [
       "<bound method DataFrame.info of        Name  Age  Salary\n",
       "0     Hilda   22   10000\n",
       "1  Patience   23   20000\n",
       "2    Flower   24   40000>"
      ]
     },
     "execution_count": 13,
     "metadata": {},
     "output_type": "execute_result"
    }
   ],
   "source": [
    "# Print a concise summary of a DataFrame.\n",
    "employees.info"
   ]
  },
  {
   "cell_type": "code",
   "execution_count": 15,
   "id": "312d42f2",
   "metadata": {},
   "outputs": [
    {
     "data": {
      "text/plain": [
       "23.0"
      ]
     },
     "execution_count": 15,
     "metadata": {},
     "output_type": "execute_result"
    }
   ],
   "source": [
    "# Calculating the mean of values in a data frame\n",
    "employees[\"Age\"].mean()"
   ]
  },
  {
   "cell_type": "code",
   "execution_count": 16,
   "id": "60766f3e",
   "metadata": {},
   "outputs": [
    {
     "data": {
      "text/plain": [
       "20000.0"
      ]
     },
     "execution_count": 16,
     "metadata": {},
     "output_type": "execute_result"
    }
   ],
   "source": [
    "# Calculating the median of values in a data frame\n",
    "employees[\"Salary\"].median()"
   ]
  },
  {
   "cell_type": "code",
   "execution_count": 18,
   "id": "d9f277c2",
   "metadata": {},
   "outputs": [
    {
     "data": {
      "text/plain": [
       "0       hilda\n",
       "1    patience\n",
       "2      flower\n",
       "Name: Name, dtype: object"
      ]
     },
     "execution_count": 18,
     "metadata": {},
     "output_type": "execute_result"
    }
   ],
   "source": [
    "# Changes a string to lower case\n",
    "employees[\"Name\"].str.lower()"
   ]
  },
  {
   "cell_type": "code",
   "execution_count": 19,
   "id": "f2052637",
   "metadata": {},
   "outputs": [
    {
     "data": {
      "text/plain": [
       "0       Hilda\n",
       "1    Patience\n",
       "2      Flower\n",
       "Name: Name, dtype: object"
      ]
     },
     "execution_count": 19,
     "metadata": {},
     "output_type": "execute_result"
    }
   ],
   "source": [
    "# Changes a string to the capital case\n",
    "employees[\"Name\"].str.capitalize()"
   ]
  },
  {
   "cell_type": "code",
   "execution_count": 20,
   "id": "74ebfaf2",
   "metadata": {},
   "outputs": [
    {
     "data": {
      "text/plain": [
       "0    False\n",
       "1    False\n",
       "2    False\n",
       "Name: Name, dtype: bool"
      ]
     },
     "execution_count": 20,
     "metadata": {},
     "output_type": "execute_result"
    }
   ],
   "source": [
    "# looks up a value and returns true or false if the value is there or not\n",
    "employees[\"Name\"].str.contains(\"Crestable\")"
   ]
  },
  {
   "cell_type": "code",
   "execution_count": 21,
   "id": "61dde322",
   "metadata": {},
   "outputs": [
    {
     "data": {
      "text/plain": [
       "0    5\n",
       "1    8\n",
       "2    6\n",
       "Name: Name, dtype: int64"
      ]
     },
     "execution_count": 21,
     "metadata": {},
     "output_type": "execute_result"
    }
   ],
   "source": [
    "# Finds the number of characters in a string\n",
    "employees[\"Name\"].str.len()"
   ]
  },
  {
   "cell_type": "code",
   "execution_count": 22,
   "id": "4aac1da0",
   "metadata": {},
   "outputs": [
    {
     "data": {
      "text/plain": [
       "1"
      ]
     },
     "execution_count": 22,
     "metadata": {},
     "output_type": "execute_result"
    }
   ],
   "source": [
    "# Returns the index with the longest characters\n",
    "employees[\"Name\"].str.len().idxmax()"
   ]
  },
  {
   "cell_type": "code",
   "execution_count": 24,
   "id": "435deb08",
   "metadata": {},
   "outputs": [
    {
     "data": {
      "text/plain": [
       "Mercy        1\n",
       "Crestable    2\n",
       "Grace        3\n",
       "Pearl        4\n",
       "dtype: int64"
      ]
     },
     "execution_count": 24,
     "metadata": {},
     "output_type": "execute_result"
    }
   ],
   "source": [
    "# Using an index\n",
    "my_sisters = pd.Series([1,2,3,4], index = [\"Mercy\", \"Crestable\", \"Grace\", \"Pearl\"])\n",
    "my_sisters\n"
   ]
  },
  {
   "cell_type": "code",
   "execution_count": 25,
   "id": "603da660",
   "metadata": {},
   "outputs": [
    {
     "data": {
      "text/plain": [
       "Machine learning    178\n",
       "Excel               185\n",
       "Python              185\n",
       "dtype: int64"
      ]
     },
     "execution_count": 25,
     "metadata": {},
     "output_type": "execute_result"
    }
   ],
   "source": [
    "# adding two series\n",
    "my_marks1 = pd.Series([85,90,98], index = [\"Machine learning\", \"Excel\", \"Python\"])\n",
    "my_marks2 = pd.Series([93,95,87], index = [\"Machine learning\", \"Excel\", \"Python\"] )\n",
    "my_marks1 + my_marks2"
   ]
  },
  {
   "cell_type": "code",
   "execution_count": 26,
   "id": "3bdb5f54",
   "metadata": {},
   "outputs": [],
   "source": [
    "from numpy.random import randn\n",
    "np.random.seed(100)"
   ]
  },
  {
   "cell_type": "code",
   "execution_count": 27,
   "id": "cdb36efa",
   "metadata": {},
   "outputs": [],
   "source": [
    "np.random.seed()"
   ]
  },
  {
   "cell_type": "code",
   "execution_count": 28,
   "id": "dbfc1ee0",
   "metadata": {},
   "outputs": [
    {
     "data": {
      "text/html": [
       "<div>\n",
       "<style scoped>\n",
       "    .dataframe tbody tr th:only-of-type {\n",
       "        vertical-align: middle;\n",
       "    }\n",
       "\n",
       "    .dataframe tbody tr th {\n",
       "        vertical-align: top;\n",
       "    }\n",
       "\n",
       "    .dataframe thead th {\n",
       "        text-align: right;\n",
       "    }\n",
       "</style>\n",
       "<table border=\"1\" class=\"dataframe\">\n",
       "  <thead>\n",
       "    <tr style=\"text-align: right;\">\n",
       "      <th></th>\n",
       "      <th>W</th>\n",
       "      <th>X</th>\n",
       "      <th>Y</th>\n",
       "      <th>Z</th>\n",
       "    </tr>\n",
       "  </thead>\n",
       "  <tbody>\n",
       "    <tr>\n",
       "      <th>A</th>\n",
       "      <td>2.866292</td>\n",
       "      <td>-0.004314</td>\n",
       "      <td>-0.005980</td>\n",
       "      <td>0.711362</td>\n",
       "    </tr>\n",
       "    <tr>\n",
       "      <th>B</th>\n",
       "      <td>-0.740142</td>\n",
       "      <td>-0.205972</td>\n",
       "      <td>0.444164</td>\n",
       "      <td>0.308198</td>\n",
       "    </tr>\n",
       "    <tr>\n",
       "      <th>C</th>\n",
       "      <td>-1.540652</td>\n",
       "      <td>1.011264</td>\n",
       "      <td>2.766935</td>\n",
       "      <td>-1.962165</td>\n",
       "    </tr>\n",
       "    <tr>\n",
       "      <th>D</th>\n",
       "      <td>0.113525</td>\n",
       "      <td>1.537141</td>\n",
       "      <td>-1.106882</td>\n",
       "      <td>-0.187346</td>\n",
       "    </tr>\n",
       "    <tr>\n",
       "      <th>E</th>\n",
       "      <td>1.002769</td>\n",
       "      <td>-1.851140</td>\n",
       "      <td>0.221705</td>\n",
       "      <td>-1.461180</td>\n",
       "    </tr>\n",
       "  </tbody>\n",
       "</table>\n",
       "</div>"
      ],
      "text/plain": [
       "          W         X         Y         Z\n",
       "A  2.866292 -0.004314 -0.005980  0.711362\n",
       "B -0.740142 -0.205972  0.444164  0.308198\n",
       "C -1.540652  1.011264  2.766935 -1.962165\n",
       "D  0.113525  1.537141 -1.106882 -0.187346\n",
       "E  1.002769 -1.851140  0.221705 -1.461180"
      ]
     },
     "execution_count": 28,
     "metadata": {},
     "output_type": "execute_result"
    }
   ],
   "source": [
    "# arranges data into rows and columns\n",
    "df = pd.DataFrame(randn(5,4), index = 'A B C D E '.split(), columns = 'W X Y Z'.split())\n",
    "df"
   ]
  },
  {
   "cell_type": "code",
   "execution_count": 29,
   "id": "a8274515",
   "metadata": {},
   "outputs": [
    {
     "data": {
      "text/html": [
       "<div>\n",
       "<style scoped>\n",
       "    .dataframe tbody tr th:only-of-type {\n",
       "        vertical-align: middle;\n",
       "    }\n",
       "\n",
       "    .dataframe tbody tr th {\n",
       "        vertical-align: top;\n",
       "    }\n",
       "\n",
       "    .dataframe thead th {\n",
       "        text-align: right;\n",
       "    }\n",
       "</style>\n",
       "<table border=\"1\" class=\"dataframe\">\n",
       "  <thead>\n",
       "    <tr style=\"text-align: right;\">\n",
       "      <th></th>\n",
       "      <th>W</th>\n",
       "      <th>X</th>\n",
       "      <th>Z</th>\n",
       "    </tr>\n",
       "  </thead>\n",
       "  <tbody>\n",
       "    <tr>\n",
       "      <th>A</th>\n",
       "      <td>2.866292</td>\n",
       "      <td>-0.004314</td>\n",
       "      <td>0.711362</td>\n",
       "    </tr>\n",
       "    <tr>\n",
       "      <th>B</th>\n",
       "      <td>-0.740142</td>\n",
       "      <td>-0.205972</td>\n",
       "      <td>0.308198</td>\n",
       "    </tr>\n",
       "    <tr>\n",
       "      <th>C</th>\n",
       "      <td>-1.540652</td>\n",
       "      <td>1.011264</td>\n",
       "      <td>-1.962165</td>\n",
       "    </tr>\n",
       "    <tr>\n",
       "      <th>D</th>\n",
       "      <td>0.113525</td>\n",
       "      <td>1.537141</td>\n",
       "      <td>-0.187346</td>\n",
       "    </tr>\n",
       "    <tr>\n",
       "      <th>E</th>\n",
       "      <td>1.002769</td>\n",
       "      <td>-1.851140</td>\n",
       "      <td>-1.461180</td>\n",
       "    </tr>\n",
       "  </tbody>\n",
       "</table>\n",
       "</div>"
      ],
      "text/plain": [
       "          W         X         Z\n",
       "A  2.866292 -0.004314  0.711362\n",
       "B -0.740142 -0.205972  0.308198\n",
       "C -1.540652  1.011264 -1.962165\n",
       "D  0.113525  1.537141 -0.187346\n",
       "E  1.002769 -1.851140 -1.461180"
      ]
     },
     "execution_count": 29,
     "metadata": {},
     "output_type": "execute_result"
    }
   ],
   "source": [
    "# Remove a column from a data frame\n",
    "new = df.drop(\"Y\", axis = 1)\n",
    "new"
   ]
  },
  {
   "cell_type": "code",
   "execution_count": 31,
   "id": "27728e8e",
   "metadata": {},
   "outputs": [
    {
     "data": {
      "text/plain": [
       "W   -0.740142\n",
       "X   -0.205972\n",
       "Z    0.308198\n",
       "Name: B, dtype: float64"
      ]
     },
     "execution_count": 31,
     "metadata": {},
     "output_type": "execute_result"
    }
   ],
   "source": [
    "# locks up and index and returns its elements\n",
    "new.loc[\"B\"]"
   ]
  },
  {
   "cell_type": "code",
   "execution_count": 33,
   "id": "3028e6ee",
   "metadata": {},
   "outputs": [
    {
     "data": {
      "text/plain": [
       "W   -1.540652\n",
       "X    1.011264\n",
       "Z   -1.962165\n",
       "Name: C, dtype: float64"
      ]
     },
     "execution_count": 33,
     "metadata": {},
     "output_type": "execute_result"
    }
   ],
   "source": [
    "# Use of indexing to look up a value\n",
    "new.iloc[2]"
   ]
  },
  {
   "cell_type": "code",
   "execution_count": null,
   "id": "8aac9dda",
   "metadata": {},
   "outputs": [],
   "source": []
  }
 ],
 "metadata": {
  "kernelspec": {
   "display_name": "Python 3 (ipykernel)",
   "language": "python",
   "name": "python3"
  },
  "language_info": {
   "codemirror_mode": {
    "name": "ipython",
    "version": 3
   },
   "file_extension": ".py",
   "mimetype": "text/x-python",
   "name": "python",
   "nbconvert_exporter": "python",
   "pygments_lexer": "ipython3",
   "version": "3.9.12"
  }
 },
 "nbformat": 4,
 "nbformat_minor": 5
}
